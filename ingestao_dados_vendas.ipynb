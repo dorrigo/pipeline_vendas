{
 "cells": [
  {
   "cell_type": "code",
   "execution_count": 1,
   "id": "08954212",
   "metadata": {},
   "outputs": [],
   "source": [
    "import psycopg2\n",
    "from faker import Faker\n",
    "import random\n",
    "from datetime import datetime, timedelta"
   ]
  },
  {
   "cell_type": "code",
   "execution_count": null,
   "id": "139f4e51",
   "metadata": {},
   "outputs": [],
   "source": [
    "fake = Faker('pt_BR')  # Dados em português\n",
    "\n",
    "# Conexão com o Postgres\n",
    "conn = psycopg2.connect(\n",
    "    dbname=\"dw_vendas_dbt\",\n",
    "    user=\"seu_usuario\",\n",
    "    password=\"sua_senha\",\n",
    "    host=\"localhost\"\n",
    ")\n",
    "cursor = conn.cursor()\n",
    "\n"
   ]
  },
  {
   "cell_type": "code",
   "execution_count": null,
   "id": "7363d166",
   "metadata": {},
   "outputs": [],
   "source": [
    "# ---  Ingestão de LOJAS  ---\n",
    "nomes_lojas = [\"Super\", \"Mega\", \"Hiper\", \"Ultra\", \"Maxi\"]\n",
    "for i in range(1, 21):  # 20 lojas\n",
    "    cursor.execute(\n",
    "        \"\"\"\n",
    "        INSERT INTO lojas_bronze (loja_id, nome, cidade, tamanho)\n",
    "        VALUES (%s, %s, %s, %s)\n",
    "        \"\"\",\n",
    "        (i,  # ID sequencial\n",
    "         f\"{random.choice(nomes_lojas)} {fake.word().capitalize()}\",  # Nome composto\n",
    "         fake.city(),\n",
    "         random.choice([\"Pequena\", \"Média\", \"Grande\"]))\n",
    "    )"
   ]
  },
  {
   "cell_type": "code",
   "execution_count": null,
   "id": "758b9908",
   "metadata": {},
   "outputs": [],
   "source": [
    "# --- Ingestão de CLIENTES ---\n",
    "for i in range(1, 101):  # 100 clientes\n",
    "    cursor.execute(\n",
    "        \"\"\"\n",
    "        INSERT INTO clientes_bronze (cliente_id, nome, cidade, segmento)\n",
    "        VALUES (%s, %s, %s, %s)\n",
    "        \"\"\",\n",
    "        (i,  # ID sequencial para evitar duplicatas\n",
    "         fake.name(),\n",
    "         fake.city(),\n",
    "         random.choice([\"Varejo\", \"Atacado\", \"Online\"]))\n",
    "    )"
   ]
  },
  {
   "cell_type": "code",
   "execution_count": null,
   "id": "f4e44efd",
   "metadata": {},
   "outputs": [],
   "source": [
    "# --- Ingestão de PRODUTOS ---\n",
    "categorias = [\"Eletrônicos\", \"Roupas\", \"Alimentos\", \"Livros\", \"Cosméticos\"]\n",
    "for i in range(1, 51):  # 50 produtos\n",
    "    cursor.execute(\n",
    "        \"\"\"\n",
    "        INSERT INTO produtos_bronze (produto_id, nome, categoria, preco)\n",
    "        VALUES (%s, %s, %s, %s)\n",
    "        \"\"\",\n",
    "        (i,  # ID sequencial\n",
    "         f\"{fake.word().capitalize()} {fake.word()}\",  # Nome composto\n",
    "         random.choice(categorias),\n",
    "         round(random.uniform(10, 500), 2))\n",
    "    )"
   ]
  },
  {
   "cell_type": "code",
   "execution_count": null,
   "id": "a5922d3d",
   "metadata": {},
   "outputs": [],
   "source": [
    "# --- Ingestão de VENDAS ---\n",
    "for i in range(1, 1001):  # 1000 vendas\n",
    "    data_venda = fake.date_between(start_date='-1y', end_date='today')\n",
    "    cursor.execute(\n",
    "        \"\"\"\n",
    "        INSERT INTO vendas_bronze (venda_id, loja_id, cliente_id, produto_id, quantidade, data_venda, total)\n",
    "        VALUES (%s, %s, %s, %s, %s, %s, %s)\n",
    "        \"\"\",\n",
    "        (i,  # ID sequencial\n",
    "         random.randint(1, 20),  # loja_id válido (1-20)\n",
    "         random.randint(1, 100),  # cliente_id válido (1-100)\n",
    "         random.randint(1, 50),  # produto_id válido (1-50)\n",
    "         random.randint(1, 5),\n",
    "         data_venda,\n",
    "         round(random.uniform(50, 2000), 2))\n",
    "    )"
   ]
  },
  {
   "cell_type": "code",
   "execution_count": 10,
   "id": "e3176da4",
   "metadata": {},
   "outputs": [
    {
     "name": "stdout",
     "output_type": "stream",
     "text": [
      "Dados ingeridos na Bronze com sucesso!\n"
     ]
    }
   ],
   "source": [
    "# Commit e fechamento\n",
    "conn.commit()\n",
    "cursor.close()\n",
    "conn.close()\n",
    "print(\"Dados ingeridos na Bronze com sucesso!\")"
   ]
  }
 ],
 "metadata": {
  "kernelspec": {
   "display_name": "base",
   "language": "python",
   "name": "python3"
  },
  "language_info": {
   "codemirror_mode": {
    "name": "ipython",
    "version": 3
   },
   "file_extension": ".py",
   "mimetype": "text/x-python",
   "name": "python",
   "nbconvert_exporter": "python",
   "pygments_lexer": "ipython3",
   "version": "3.12.7"
  }
 },
 "nbformat": 4,
 "nbformat_minor": 5
}
